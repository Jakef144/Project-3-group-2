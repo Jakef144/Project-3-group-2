{
 "cells": [
  {
   "cell_type": "code",
   "execution_count": 79,
   "id": "f63a640d-889c-464d-921f-b5f797721c1e",
   "metadata": {},
   "outputs": [],
   "source": [
    "# Standard init\n",
    "import pandas as pd\n",
    "import os"
   ]
  },
  {
   "cell_type": "code",
   "execution_count": 81,
   "id": "09cf6b49-59f7-40b4-a04e-63ddcee33601",
   "metadata": {},
   "outputs": [],
   "source": [
    "# File path\n",
    "file_path = 'Excel-data/cleaned_data.csv'\n",
    "cleaned_data = pd.read_csv(file_path)"
   ]
  },
  {
   "cell_type": "code",
   "execution_count": 83,
   "id": "7d0b3f98-e929-4148-aeb2-f7735af8138e",
   "metadata": {},
   "outputs": [
    {
     "data": {
      "text/plain": [
       "'Excel-data\\\\cleaned_data_finalized.csv'"
      ]
     },
     "execution_count": 83,
     "metadata": {},
     "output_type": "execute_result"
    }
   ],
   "source": [
    "# Define the corrected categorization function\n",
    "def categorize_industry(industry):\n",
    "    if any(keyword in industry for keyword in [\"Farm\", \"Logging\", \"Mining\", \"Agriculture\", \"Forestry\", \"Fishery\"]):\n",
    "        return \"Agriculture and Natural Resources\"\n",
    "    elif any(keyword in industry for keyword in [\"Construction\", \"Subdivision\", \"Building\"]):\n",
    "        return \"Construction\"\n",
    "    elif any(keyword in industry for keyword in [\"Manufacturing\", \"Processing\", \"Mills\"]):\n",
    "        return \"Manufacturing\"\n",
    "    elif any(keyword in industry for keyword in [\"Trade\", \"Merchant\", \"Dealers\", \"Retailers\"]):\n",
    "        return \"Food and Wholesale Trade\"\n",
    "    elif any(keyword in industry for keyword in [\"Trucking\", \"Automobile\", \"Transportation\"]):\n",
    "        return \"Transportation and Logistics\"\n",
    "    elif any(keyword in industry for keyword in [\"Gas\", \"Power\", \"Utility\"]):\n",
    "        return \"Utilities and Energy\"\n",
    "    elif any(keyword in industry for keyword in [\"Radio\", \"Broadcasting\", \"Motion Picture\", \"Media\", \"Messengers\", \"Information\"]):\n",
    "        return \"Information and Media\"\n",
    "    elif any(keyword in industry for keyword in [\"Finance\", \"Insurance\", \"Real Estate\", \"Credit\", \"Securities\", \"Brokerage\"]):\n",
    "        return \"Financial Services\"\n",
    "    elif any(keyword in industry for keyword in [\"Health\", \"Medical\", \"Hospital\", \"Education\", \"School\", \"Colleges\", \"Social Assistance\", \"Nursing\"]):\n",
    "        return \"Education and Health Services\"\n",
    "    elif any(keyword in industry for keyword in [\"Entertainment\", \"Recreation\", \"Accommodation\", \"Arts\"]):\n",
    "        return \"Leisure and Hospitality\"\n",
    "    elif \"Self Employment\" in industry or \"Private Household\" in industry:\n",
    "        return \"Personal and Household Services\"\n",
    "    elif \"Total Employment\" in industry or \"Nonfarm\" in industry:\n",
    "        return \"General Employment Categories\"\n",
    "    else:\n",
    "        return \"Other\"\n",
    "\n",
    "# Apply the categorization logic to the 'industry_title' column\n",
    "cleaned_data['industry_category'] = cleaned_data['industry_title'].apply(categorize_industry)\n",
    "\n",
    "# Drop outdated columns if they exist\n",
    "columns_to_drop = ['final_industry_category', 'industry_category']\n",
    "for col in columns_to_drop:\n",
    "    if col in cleaned_data.columns:\n",
    "        cleaned_data.drop(columns=[col], inplace=True)\n",
    "\n",
    "# Re-apply the categorization logic (to ensure a single clean column)\n",
    "cleaned_data['industry_category'] = cleaned_data['industry_title'].apply(categorize_industry)\n",
    "\n",
    "# Save the cleaned and finalized dataset\n",
    "output_folder = 'Excel-data'\n",
    "output_filename = 'cleaned_data_finalized.csv'\n",
    "\n",
    "# Ensure the output folder exists\n",
    "os.makedirs(output_folder, exist_ok=True)\n",
    "\n",
    "# Save the updated dataset\n",
    "output_path = os.path.join(output_folder, output_filename)\n",
    "cleaned_data.to_csv(output_path, index=False)\n",
    "\n",
    "output_path\n",
    "\n"
   ]
  },
  {
   "cell_type": "code",
   "execution_count": null,
   "id": "bc21dfd2-3ad0-4a9a-a10e-538f08dea584",
   "metadata": {},
   "outputs": [],
   "source": [
    "\n",
    "\n"
   ]
  },
  {
   "cell_type": "code",
   "execution_count": null,
   "id": "ff8acbc3-5d28-4d9b-b352-6ce81c60af94",
   "metadata": {},
   "outputs": [],
   "source": []
  },
  {
   "cell_type": "code",
   "execution_count": null,
   "id": "13b5620a-ab4e-45b5-ae5e-2cadcb174a44",
   "metadata": {},
   "outputs": [],
   "source": []
  },
  {
   "cell_type": "code",
   "execution_count": null,
   "id": "60976cdf-96eb-422f-b7d5-20ef409166a2",
   "metadata": {},
   "outputs": [],
   "source": []
  },
  {
   "cell_type": "code",
   "execution_count": null,
   "id": "fcca29d5-46f2-4f77-a76a-7f38bf00b614",
   "metadata": {},
   "outputs": [],
   "source": []
  }
 ],
 "metadata": {
  "kernelspec": {
   "display_name": "Python 3 (ipykernel)",
   "language": "python",
   "name": "python3"
  },
  "language_info": {
   "codemirror_mode": {
    "name": "ipython",
    "version": 3
   },
   "file_extension": ".py",
   "mimetype": "text/x-python",
   "name": "python",
   "nbconvert_exporter": "python",
   "pygments_lexer": "ipython3",
   "version": "3.12.4"
  }
 },
 "nbformat": 4,
 "nbformat_minor": 5
}
