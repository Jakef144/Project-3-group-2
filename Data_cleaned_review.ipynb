{
 "cells": [
  {
   "cell_type": "code",
   "execution_count": 7,
   "id": "fcf5d7cf-54b3-4dab-8bb7-4d9953cd55fb",
   "metadata": {},
   "outputs": [
    {
     "name": "stdout",
     "output_type": "stream",
     "text": [
      "Misaligned entries corrected and saved to updated file.\n",
      "Category Analysis:\n",
      "industry_category\n",
      "Agriculture and Natural Resources    [Total Farm, Mining and Logging, Logging, Mini...\n",
      "Construction                         [Construction, Construction of Buildings, Resi...\n",
      "Education and Health Services        [Educational Services (Private), Health Care, ...\n",
      "Financial Services                   [Finance and Insurance, Credit Intermediation ...\n",
      "Food and Wholesale Trade             [Specialty Trade Contractors, Other Specialty ...\n",
      "General Employment Categories                        [Total Employment, Total Nonfarm]\n",
      "Information and Media                [Couriers and Messengers, Information, Motion ...\n",
      "Leisure and Hospitality              [Arts, Entertainment, and Recreation, Performi...\n",
      "Manufacturing                        [Manufacturing, Durable Goods Manufacturing, W...\n",
      "Other                                [Printing and Related Support Activities, Depa...\n",
      "Personal and Household Services      [Self Employment, Private Household Workers, O...\n",
      "Transportation and Logistics         [Transportation, Warehousing, and Utilities, T...\n",
      "Utilities and Energy                 [Oil and Gas Extraction, Electric Power Genera...\n",
      "Name: industry_title, dtype: object\n"
     ]
    }
   ],
   "source": [
    "# Load necessary libraries\n",
    "import pandas as pd\n",
    "\n",
    "# Define the file path\n",
    "file_path = 'Excel-data/cleaned_data_finalized.csv'\n",
    "\n",
    "# Load the dataset\n",
    "data = pd.read_csv(file_path)\n",
    "\n",
    "# Correct misaligned entries for nursing-related titles\n",
    "data.loc[\n",
    "    (data['industry_title'].str.contains(\"nursing\", case=False, na=False)) &\n",
    "    (data['industry_category'] == 'Other'),\n",
    "    'industry_category'\n",
    "] = 'Education and Health Services'\n",
    "\n",
    "# Analyze category alignments\n",
    "data_analysis = data.groupby('industry_category')['industry_title'].unique()\n",
    "\n",
    "# Save the updated dataset to a new file\n",
    "updated_file_path = 'Excel-data/updated_cleaned_data_finalized.csv'\n",
    "data.to_csv(updated_file_path, index=False)\n",
    "\n",
    "# Display results for verification\n",
    "print(\"Misaligned entries corrected and saved to updated file.\")\n",
    "print(\"Category Analysis:\")\n",
    "print(data_analysis)"
   ]
  },
  {
   "cell_type": "code",
   "execution_count": 9,
   "id": "fc8c000c-985b-465a-a371-248faa2f2fd3",
   "metadata": {},
   "outputs": [
    {
     "name": "stdout",
     "output_type": "stream",
     "text": [
      "Categories updated and saved to: Excel-data/updated_cleaned_data_finalized.csv\n"
     ]
    }
   ],
   "source": [
    "import pandas as pd\n",
    "\n",
    "# Load the data\n",
    "file_path = 'Excel-data/cleaned_data_finalized.csv'\n",
    "finalized_data = pd.read_csv(file_path)\n",
    "\n",
    "# Add \"Arts, Entertainment, and Recreation\" category\n",
    "arts_titles = [\n",
    "    \"Arts, Entertainment, and Recreation\",\n",
    "    \"Performing Arts, Spectator Sports, and Related Industries\",\n",
    "    \"Performing Arts Companies\",\n",
    "    \"Spectator Sports\",\n",
    "    \"Independent Artists, Writers, and Performers\",\n",
    "    \"Museums, Historical Sites, and Similar Institutions\",\n",
    "    \"Amusement, Gambling, and Recreation Industries\",\n",
    "    \"Amusement Parks and Arcades\",\n",
    "    \"Gambling Industries\",\n",
    "    \"Other Amusement and Recreation Industries\"\n",
    "]\n",
    "\n",
    "finalized_data.loc[\n",
    "    finalized_data['industry_title'].isin(arts_titles), \n",
    "    'industry_category'\n",
    "] = \"Arts, Entertainment, and Recreation\"\n",
    "\n",
    "# Reassign health-related titles to \"Education and Health Services\"\n",
    "health_titles = [\n",
    "    \"Offices of Physicians\",\n",
    "    \"Offices of Dentists\",\n",
    "    \"Offices of Other Health Practitioners\",\n",
    "    \"Outpatient Care Centers\"\n",
    "]\n",
    "\n",
    "finalized_data.loc[\n",
    "    finalized_data['industry_title'].isin(health_titles), \n",
    "    'industry_category'\n",
    "] = \"Education and Health Services\"\n",
    "\n",
    "# Group \"Leisure and Hospitality\" related titles\n",
    "leisure_titles = [\n",
    "    \"Accommodation and Food Services\",\n",
    "    \"Full-Service Restaurants\",\n",
    "    \"Limited-Service Restaurants and Other Eating Places\",\n",
    "    \"Special Food Services\",\n",
    "    \"Drinking Places (Alcoholic Beverages)\"\n",
    "]\n",
    "\n",
    "finalized_data.loc[\n",
    "    finalized_data['industry_title'].isin(leisure_titles), \n",
    "    'industry_category'\n",
    "] = \"Leisure and Hospitality\"\n",
    "\n",
    "# Save the updated file\n",
    "output_path = 'Excel-data/updated_cleaned_data_finalized.csv'\n",
    "finalized_data.to_csv(output_path, index=False)\n",
    "\n",
    "# Display confirmation\n",
    "print(\"Categories updated and saved to:\", output_path)\n",
    "\n"
   ]
  },
  {
   "cell_type": "code",
   "execution_count": null,
   "id": "ad14c08d-ab66-472d-8d0c-06077e3e1fa0",
   "metadata": {},
   "outputs": [],
   "source": []
  }
 ],
 "metadata": {
  "kernelspec": {
   "display_name": "Python 3 (ipykernel)",
   "language": "python",
   "name": "python3"
  },
  "language_info": {
   "codemirror_mode": {
    "name": "ipython",
    "version": 3
   },
   "file_extension": ".py",
   "mimetype": "text/x-python",
   "name": "python",
   "nbconvert_exporter": "python",
   "pygments_lexer": "ipython3",
   "version": "3.12.4"
  }
 },
 "nbformat": 4,
 "nbformat_minor": 5
}
