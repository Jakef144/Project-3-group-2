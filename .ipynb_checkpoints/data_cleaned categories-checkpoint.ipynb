{
 "cells": [
  {
   "cell_type": "code",
   "execution_count": 3,
   "id": "f63a640d-889c-464d-921f-b5f797721c1e",
   "metadata": {},
   "outputs": [],
   "source": [
    "# Standard init\n",
    "import pandas as pd\n",
    "import os"
   ]
  },
  {
   "cell_type": "code",
   "execution_count": 5,
   "id": "09cf6b49-59f7-40b4-a04e-63ddcee33601",
   "metadata": {},
   "outputs": [],
   "source": [
    "# File path\n",
    "file_path = 'Excel-data/cleaned_data.csv'\n",
    "cleaned_data = pd.read_csv(file_path)"
   ]
  },
  {
   "cell_type": "code",
   "execution_count": 7,
   "id": "7d0b3f98-e929-4148-aeb2-f7735af8138e",
   "metadata": {},
   "outputs": [],
   "source": [
    "# Define a function to categorize industries\n",
    "def categorize_industry(industry):\n",
    "    if \"Farm\" in industry or \"Logging\" in industry or \"Mining\" in industry:\n",
    "        return \"Agriculture and Natural Resources\"\n",
    "    elif \"Construction\" in industry:\n",
    "        return \"Construction\"\n",
    "    elif \"Manufacturing\" in industry:\n",
    "        return \"Manufacturing\"\n",
    "    elif \"Transportation\" in industry or \"Motor Vehicle\" in industry or \"Ship and Boat\" in industry:\n",
    "        return \"Transportation and Logistics\"\n",
    "    elif \"Private Household\" in industry or \"Self Employment\" in industry:\n",
    "        return \"Service Industries\"\n",
    "    elif \"Computer\" in industry or \"Electronic\" in industry or \"Semiconductor\" in industry:\n",
    "        return \"Technology and Electronics\"\n",
    "    elif \"Total Employment\" in industry or \"Nonfarm\" in industry:\n",
    "        return \"General Employment Categories\"\n",
    "    else:\n",
    "        return \"Other\""
   ]
  },
  {
   "cell_type": "code",
   "execution_count": 9,
   "id": "bc21dfd2-3ad0-4a9a-a10e-538f08dea584",
   "metadata": {},
   "outputs": [],
   "source": [
    "# Apply the categorization function to the industry_title column\n",
    "cleaned_data['industry_category'] = cleaned_data['industry_title'].apply(categorize_industry)\n",
    "\n",
    "# Save the updated dataset to the Excel-data folder with a new name\n",
    "output_folder = 'Excel-data'\n",
    "output_filename = 'cleaned_data_with_categories.csv'\n",
    "\n",
    "# Ensure the output folder exists\n",
    "os.makedirs(output_folder, exist_ok=True)\n",
    "\n",
    "# Save the updated dataset\n",
    "output_path = os.path.join(output_folder, output_filename)\n",
    "cleaned_data.to_csv(output_path, index=False)"
   ]
  },
  {
   "cell_type": "code",
   "execution_count": 11,
   "id": "ff8acbc3-5d28-4d9b-b352-6ce81c60af94",
   "metadata": {},
   "outputs": [
    {
     "data": {
      "text/plain": [
       "'Excel-data\\\\cleaned_data_with_categories.csv'"
      ]
     },
     "execution_count": 11,
     "metadata": {},
     "output_type": "execute_result"
    }
   ],
   "source": [
    "output_path"
   ]
  }
 ],
 "metadata": {
  "kernelspec": {
   "display_name": "Python 3 (ipykernel)",
   "language": "python",
   "name": "python3"
  },
  "language_info": {
   "codemirror_mode": {
    "name": "ipython",
    "version": 3
   },
   "file_extension": ".py",
   "mimetype": "text/x-python",
   "name": "python",
   "nbconvert_exporter": "python",
   "pygments_lexer": "ipython3",
   "version": "3.12.4"
  }
 },
 "nbformat": 4,
 "nbformat_minor": 5
}
