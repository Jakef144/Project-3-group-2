{
 "cells": [
  {
   "cell_type": "code",
   "execution_count": 1,
   "id": "cc66ff73-6bcf-4725-ad33-21ac6e4868f2",
   "metadata": {},
   "outputs": [],
   "source": [
    "import pandas as pd\n",
    "import json"
   ]
  },
  {
   "cell_type": "code",
   "execution_count": 21,
   "id": "3577ec2d-e37a-443a-98ba-2d017c71b35d",
   "metadata": {},
   "outputs": [
    {
     "name": "stdout",
     "output_type": "stream",
     "text": [
      "JSON file saved in the current directory as: employment_data.json\n"
     ]
    },
    {
     "name": "stderr",
     "output_type": "stream",
     "text": [
      "C:\\Users\\jakef\\AppData\\Local\\Temp\\ipykernel_23808\\1195757782.py:7: SettingWithCopyWarning: \n",
      "A value is trying to be set on a copy of a slice from a DataFrame\n",
      "\n",
      "See the caveats in the documentation: https://pandas.pydata.org/pandas-docs/stable/user_guide/indexing.html#returning-a-view-versus-a-copy\n",
      "  selected_data.rename(columns={\n"
     ]
    }
   ],
   "source": [
    "# Load the CSV file\n",
    "file_path = 'Excel-data/updated_cleaned_data_finalized.csv' \n",
    "data = pd.read_csv(file_path)\n",
    "\n",
    "# Select relevant columns and rename them for clarity\n",
    "selected_data = data[['industry_category', 'industry_title', 'base_quarter_employment_estimate']]\n",
    "selected_data.rename(columns={\n",
    "    'base_quarter_employment_estimate': 'base_employment'\n",
    "}, inplace=True)\n",
    "\n",
    "# Convert the data to a JSON format compatible with the treemap\n",
    "json_data = selected_data.to_dict(orient='records')\n",
    "\n",
    "# Save to a JSON file in the current directory\n",
    "output_file = 'employment_data.json'\n",
    "with open(output_file, 'w') as f:\n",
    "    json.dump(json_data, f, indent=4)\n",
    "\n",
    "print(f\"JSON file saved in the current directory as: {output_file}\")"
   ]
  }
 ],
 "metadata": {
  "kernelspec": {
   "display_name": "Python 3 (ipykernel)",
   "language": "python",
   "name": "python3"
  },
  "language_info": {
   "codemirror_mode": {
    "name": "ipython",
    "version": 3
   },
   "file_extension": ".py",
   "mimetype": "text/x-python",
   "name": "python",
   "nbconvert_exporter": "python",
   "pygments_lexer": "ipython3",
   "version": "3.12.4"
  }
 },
 "nbformat": 4,
 "nbformat_minor": 5
}
