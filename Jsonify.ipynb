{
 "cells": [
  {
   "cell_type": "code",
   "execution_count": 27,
   "id": "cc66ff73-6bcf-4725-ad33-21ac6e4868f2",
   "metadata": {},
   "outputs": [],
   "source": [
    "import pandas as pd\n",
    "import json"
   ]
  },
  {
   "cell_type": "code",
   "execution_count": 29,
   "id": "3577ec2d-e37a-443a-98ba-2d017c71b35d",
   "metadata": {},
   "outputs": [
    {
     "name": "stdout",
     "output_type": "stream",
     "text": [
      "JSON file saved in the current directory as: employment_data.json\n"
     ]
    },
    {
     "name": "stderr",
     "output_type": "stream",
     "text": [
      "C:\\Users\\jakef\\AppData\\Local\\Temp\\ipykernel_23808\\1195757782.py:7: SettingWithCopyWarning: \n",
      "A value is trying to be set on a copy of a slice from a DataFrame\n",
      "\n",
      "See the caveats in the documentation: https://pandas.pydata.org/pandas-docs/stable/user_guide/indexing.html#returning-a-view-versus-a-copy\n",
      "  selected_data.rename(columns={\n"
     ]
    }
   ],
   "source": [
    "# Load the CSV file\n",
    "file_path = 'Excel-data/updated_cleaned_data_finalized.csv' \n",
    "data = pd.read_csv(file_path)\n",
    "\n",
    "# Select relevant columns and rename them for clarity\n",
    "selected_data = data[['industry_category', 'industry_title', 'base_quarter_employment_estimate']]\n",
    "selected_data.rename(columns={\n",
    "    'base_quarter_employment_estimate': 'base_employment'\n",
    "}, inplace=True)\n",
    "\n",
    "# Convert the data to a JSON format compatible with the treemap\n",
    "json_data = selected_data.to_dict(orient='records')\n",
    "\n",
    "# Save to a JSON file in the current directory\n",
    "output_file = 'employment_data.json'\n",
    "with open(output_file, 'w') as f:\n",
    "    json.dump(json_data, f, indent=4)\n",
    "\n",
    "print(f\"JSON file saved in the current directory as: {output_file}\")"
   ]
  },
  {
   "cell_type": "code",
   "execution_count": 31,
   "id": "af80f572-e1d6-42d5-a14c-f9c781f47853",
   "metadata": {},
   "outputs": [
    {
     "name": "stdout",
     "output_type": "stream",
     "text": [
      "Transformed data saved to: employment_data_transformed.json\n"
     ]
    }
   ],
   "source": [
    "# Input and output file paths\n",
    "input_file = \"employment_data.json\"  # Original JSON file\n",
    "output_file = \"employment_data_transformed.json\"  # Transformed JSON file\n",
    "\n",
    "# Define a growth rate or mapping for projected employment\n",
    "growth_rate = 0.05  # Example: 5%gro wth for 2025\n",
    "\n",
    "# Load the original JSON file\n",
    "with open(input_file, \"r\") as f:\n",
    "    data = json.load(f)\n",
    "\n",
    "# Transform the dataset\n",
    "transformed_data = []\n",
    "for record in data:\n",
    "    base_employment = record[\"base_employment\"]\n",
    "    projected_employment = int(base_employment * (1 + growth_rate))  # Apply growth rate\n",
    "\n",
    "    transformed_record = {\n",
    "        \"industry_category\": record[\"industry_category\"],\n",
    "        \"industry_title\": record[\"industry_title\"],\n",
    "        \"data\": [\n",
    "            { \"year\": 2023, \"employment\": base_employment },\n",
    "            { \"year\": 2025, \"employment\": projected_employment }\n",
    "        ]\n",
    "    }\n",
    "    transformed_data.append(transformed_record)\n",
    "\n",
    "# Save the transformed dataset to a new JSON file\n",
    "with open(output_file, \"w\") as f:\n",
    "    json.dump(transformed_data, f, indent=4)\n",
    "\n",
    "print(f\"Transformed data saved to: {output_file}\")\n",
    "\n"
   ]
  }
 ],
 "metadata": {
  "kernelspec": {
   "display_name": "Python 3 (ipykernel)",
   "language": "python",
   "name": "python3"
  },
  "language_info": {
   "codemirror_mode": {
    "name": "ipython",
    "version": 3
   },
   "file_extension": ".py",
   "mimetype": "text/x-python",
   "name": "python",
   "nbconvert_exporter": "python",
   "pygments_lexer": "ipython3",
   "version": "3.12.4"
  }
 },
 "nbformat": 4,
 "nbformat_minor": 5
}
