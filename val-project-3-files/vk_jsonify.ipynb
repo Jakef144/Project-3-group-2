{
 "cells": [
  {
   "cell_type": "code",
   "execution_count": 1,
   "metadata": {},
   "outputs": [],
   "source": [
    "# import modules\n",
    "import csv\n",
    "import json"
   ]
  },
  {
   "cell_type": "code",
   "execution_count": 2,
   "metadata": {},
   "outputs": [],
   "source": [
    "# Open the CSV file and read the data into a list of dictionaries\n",
    "with open('/Users/valkeeranan/Desktop/vk-project-3-files/data/ca-lt-occ-emp-2020-2030.csv', 'r') as csvfile:\n",
    "    reader = csv.DictReader(csvfile)\n",
    "    data = list(reader)"
   ]
  },
  {
   "cell_type": "code",
   "execution_count": 3,
   "metadata": {},
   "outputs": [],
   "source": [
    "# Open a new JSON file and write the data to it\n",
    "with open('/Users/valkeeranan/Desktop/vk-project-3-files/data/ca-lt-occ-emp-2020-2030.json', 'w') as jsonfile:\n",
    "    json.dump(data, jsonfile, indent=4)"
   ]
  }
 ],
 "metadata": {
  "kernelspec": {
   "display_name": "my_env",
   "language": "python",
   "name": "python3"
  },
  "language_info": {
   "codemirror_mode": {
    "name": "ipython",
    "version": 3
   },
   "file_extension": ".py",
   "mimetype": "text/x-python",
   "name": "python",
   "nbconvert_exporter": "python",
   "pygments_lexer": "ipython3",
   "version": "3.10.15"
  }
 },
 "nbformat": 4,
 "nbformat_minor": 2
}
